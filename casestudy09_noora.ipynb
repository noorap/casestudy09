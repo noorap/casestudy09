{
 "cells": [
  {
   "cell_type": "markdown",
   "id": "550e5722",
   "metadata": {},
   "source": [
    "# Case study on Unsupervised Learning\n",
    "Do the following in the wine dataset.\n",
    "1. Read the dataset to the python environment.\n",
    "2. Try out different clustering models in the wine dataset.\n",
    "3. Find the optimum number of clusters in each model and create the model with\n",
    "the optimum number of clusters."
   ]
  },
  {
   "cell_type": "code",
   "execution_count": 1,
   "id": "ba8cae86",
   "metadata": {},
   "outputs": [],
   "source": [
    "# importing the libraries\n",
    "import numpy as np\n",
    "import pandas as pd\n",
    "import seaborn as sns\n",
    "import matplotlib.pyplot as plt"
   ]
  },
  {
   "cell_type": "code",
   "execution_count": 2,
   "id": "760a9f43",
   "metadata": {},
   "outputs": [],
   "source": [
    "import warnings\n",
    "warnings.filterwarnings('ignore')"
   ]
  },
  {
   "cell_type": "code",
   "execution_count": 3,
   "id": "f880874b",
   "metadata": {},
   "outputs": [
    {
     "data": {
      "text/html": [
       "<div>\n",
       "<style scoped>\n",
       "    .dataframe tbody tr th:only-of-type {\n",
       "        vertical-align: middle;\n",
       "    }\n",
       "\n",
       "    .dataframe tbody tr th {\n",
       "        vertical-align: top;\n",
       "    }\n",
       "\n",
       "    .dataframe thead th {\n",
       "        text-align: right;\n",
       "    }\n",
       "</style>\n",
       "<table border=\"1\" class=\"dataframe\">\n",
       "  <thead>\n",
       "    <tr style=\"text-align: right;\">\n",
       "      <th></th>\n",
       "      <th>Alcohol</th>\n",
       "      <th>Malic_Acid</th>\n",
       "      <th>Ash</th>\n",
       "      <th>Ash_Alcanity</th>\n",
       "      <th>Magnesium</th>\n",
       "      <th>Total_Phenols</th>\n",
       "      <th>Flavanoids</th>\n",
       "      <th>Nonflavanoid_Phenols</th>\n",
       "      <th>Proanthocyanins</th>\n",
       "      <th>Color_Intensity</th>\n",
       "      <th>Hue</th>\n",
       "      <th>OD280</th>\n",
       "      <th>Proline</th>\n",
       "    </tr>\n",
       "  </thead>\n",
       "  <tbody>\n",
       "    <tr>\n",
       "      <th>0</th>\n",
       "      <td>14.23</td>\n",
       "      <td>1.71</td>\n",
       "      <td>2.43</td>\n",
       "      <td>15.6</td>\n",
       "      <td>127</td>\n",
       "      <td>2.80</td>\n",
       "      <td>3.06</td>\n",
       "      <td>0.28</td>\n",
       "      <td>2.29</td>\n",
       "      <td>5.64</td>\n",
       "      <td>1.04</td>\n",
       "      <td>3.92</td>\n",
       "      <td>1065</td>\n",
       "    </tr>\n",
       "    <tr>\n",
       "      <th>1</th>\n",
       "      <td>13.20</td>\n",
       "      <td>1.78</td>\n",
       "      <td>2.14</td>\n",
       "      <td>11.2</td>\n",
       "      <td>100</td>\n",
       "      <td>2.65</td>\n",
       "      <td>2.76</td>\n",
       "      <td>0.26</td>\n",
       "      <td>1.28</td>\n",
       "      <td>4.38</td>\n",
       "      <td>1.05</td>\n",
       "      <td>3.40</td>\n",
       "      <td>1050</td>\n",
       "    </tr>\n",
       "    <tr>\n",
       "      <th>2</th>\n",
       "      <td>13.16</td>\n",
       "      <td>2.36</td>\n",
       "      <td>2.67</td>\n",
       "      <td>18.6</td>\n",
       "      <td>101</td>\n",
       "      <td>2.80</td>\n",
       "      <td>3.24</td>\n",
       "      <td>0.30</td>\n",
       "      <td>2.81</td>\n",
       "      <td>5.68</td>\n",
       "      <td>1.03</td>\n",
       "      <td>3.17</td>\n",
       "      <td>1185</td>\n",
       "    </tr>\n",
       "    <tr>\n",
       "      <th>3</th>\n",
       "      <td>14.37</td>\n",
       "      <td>1.95</td>\n",
       "      <td>2.50</td>\n",
       "      <td>16.8</td>\n",
       "      <td>113</td>\n",
       "      <td>3.85</td>\n",
       "      <td>3.49</td>\n",
       "      <td>0.24</td>\n",
       "      <td>2.18</td>\n",
       "      <td>7.80</td>\n",
       "      <td>0.86</td>\n",
       "      <td>3.45</td>\n",
       "      <td>1480</td>\n",
       "    </tr>\n",
       "    <tr>\n",
       "      <th>4</th>\n",
       "      <td>13.24</td>\n",
       "      <td>2.59</td>\n",
       "      <td>2.87</td>\n",
       "      <td>21.0</td>\n",
       "      <td>118</td>\n",
       "      <td>2.80</td>\n",
       "      <td>2.69</td>\n",
       "      <td>0.39</td>\n",
       "      <td>1.82</td>\n",
       "      <td>4.32</td>\n",
       "      <td>1.04</td>\n",
       "      <td>2.93</td>\n",
       "      <td>735</td>\n",
       "    </tr>\n",
       "  </tbody>\n",
       "</table>\n",
       "</div>"
      ],
      "text/plain": [
       "   Alcohol  Malic_Acid   Ash  Ash_Alcanity  Magnesium  Total_Phenols  \\\n",
       "0    14.23        1.71  2.43          15.6        127           2.80   \n",
       "1    13.20        1.78  2.14          11.2        100           2.65   \n",
       "2    13.16        2.36  2.67          18.6        101           2.80   \n",
       "3    14.37        1.95  2.50          16.8        113           3.85   \n",
       "4    13.24        2.59  2.87          21.0        118           2.80   \n",
       "\n",
       "   Flavanoids  Nonflavanoid_Phenols  Proanthocyanins  Color_Intensity   Hue  \\\n",
       "0        3.06                  0.28             2.29             5.64  1.04   \n",
       "1        2.76                  0.26             1.28             4.38  1.05   \n",
       "2        3.24                  0.30             2.81             5.68  1.03   \n",
       "3        3.49                  0.24             2.18             7.80  0.86   \n",
       "4        2.69                  0.39             1.82             4.32  1.04   \n",
       "\n",
       "   OD280  Proline  \n",
       "0   3.92     1065  \n",
       "1   3.40     1050  \n",
       "2   3.17     1185  \n",
       "3   3.45     1480  \n",
       "4   2.93      735  "
      ]
     },
     "execution_count": 3,
     "metadata": {},
     "output_type": "execute_result"
    }
   ],
   "source": [
    "# Loading the dataset to python environment\n",
    "wine=pd.read_csv('Wine.csv')\n",
    "wine.head()"
   ]
  },
  {
   "cell_type": "code",
   "execution_count": 4,
   "id": "756427ed",
   "metadata": {},
   "outputs": [
    {
     "data": {
      "text/plain": [
       "(178, 13)"
      ]
     },
     "execution_count": 4,
     "metadata": {},
     "output_type": "execute_result"
    }
   ],
   "source": [
    "wine.shape"
   ]
  },
  {
   "cell_type": "code",
   "execution_count": 5,
   "id": "0e2dc48e",
   "metadata": {},
   "outputs": [
    {
     "data": {
      "text/plain": [
       "Index(['Alcohol', 'Malic_Acid', 'Ash', 'Ash_Alcanity', 'Magnesium',\n",
       "       'Total_Phenols', 'Flavanoids', 'Nonflavanoid_Phenols',\n",
       "       'Proanthocyanins', 'Color_Intensity', 'Hue', 'OD280', 'Proline'],\n",
       "      dtype='object')"
      ]
     },
     "execution_count": 5,
     "metadata": {},
     "output_type": "execute_result"
    }
   ],
   "source": [
    "wine.columns"
   ]
  },
  {
   "cell_type": "code",
   "execution_count": 6,
   "id": "84e1e725",
   "metadata": {},
   "outputs": [
    {
     "name": "stdout",
     "output_type": "stream",
     "text": [
      "<class 'pandas.core.frame.DataFrame'>\n",
      "RangeIndex: 178 entries, 0 to 177\n",
      "Data columns (total 13 columns):\n",
      " #   Column                Non-Null Count  Dtype  \n",
      "---  ------                --------------  -----  \n",
      " 0   Alcohol               178 non-null    float64\n",
      " 1   Malic_Acid            178 non-null    float64\n",
      " 2   Ash                   178 non-null    float64\n",
      " 3   Ash_Alcanity          178 non-null    float64\n",
      " 4   Magnesium             178 non-null    int64  \n",
      " 5   Total_Phenols         178 non-null    float64\n",
      " 6   Flavanoids            178 non-null    float64\n",
      " 7   Nonflavanoid_Phenols  178 non-null    float64\n",
      " 8   Proanthocyanins       178 non-null    float64\n",
      " 9   Color_Intensity       178 non-null    float64\n",
      " 10  Hue                   178 non-null    float64\n",
      " 11  OD280                 178 non-null    float64\n",
      " 12  Proline               178 non-null    int64  \n",
      "dtypes: float64(11), int64(2)\n",
      "memory usage: 18.2 KB\n"
     ]
    }
   ],
   "source": [
    "wine.info()"
   ]
  },
  {
   "cell_type": "code",
   "execution_count": 7,
   "id": "144655ba",
   "metadata": {},
   "outputs": [
    {
     "data": {
      "text/html": [
       "<div>\n",
       "<style scoped>\n",
       "    .dataframe tbody tr th:only-of-type {\n",
       "        vertical-align: middle;\n",
       "    }\n",
       "\n",
       "    .dataframe tbody tr th {\n",
       "        vertical-align: top;\n",
       "    }\n",
       "\n",
       "    .dataframe thead th {\n",
       "        text-align: right;\n",
       "    }\n",
       "</style>\n",
       "<table border=\"1\" class=\"dataframe\">\n",
       "  <thead>\n",
       "    <tr style=\"text-align: right;\">\n",
       "      <th></th>\n",
       "      <th>Alcohol</th>\n",
       "      <th>Malic_Acid</th>\n",
       "      <th>Ash</th>\n",
       "      <th>Ash_Alcanity</th>\n",
       "      <th>Magnesium</th>\n",
       "      <th>Total_Phenols</th>\n",
       "      <th>Flavanoids</th>\n",
       "      <th>Nonflavanoid_Phenols</th>\n",
       "      <th>Proanthocyanins</th>\n",
       "      <th>Color_Intensity</th>\n",
       "      <th>Hue</th>\n",
       "      <th>OD280</th>\n",
       "      <th>Proline</th>\n",
       "    </tr>\n",
       "  </thead>\n",
       "  <tbody>\n",
       "    <tr>\n",
       "      <th>count</th>\n",
       "      <td>178.000000</td>\n",
       "      <td>178.000000</td>\n",
       "      <td>178.000000</td>\n",
       "      <td>178.000000</td>\n",
       "      <td>178.000000</td>\n",
       "      <td>178.000000</td>\n",
       "      <td>178.000000</td>\n",
       "      <td>178.000000</td>\n",
       "      <td>178.000000</td>\n",
       "      <td>178.000000</td>\n",
       "      <td>178.000000</td>\n",
       "      <td>178.000000</td>\n",
       "      <td>178.000000</td>\n",
       "    </tr>\n",
       "    <tr>\n",
       "      <th>mean</th>\n",
       "      <td>13.000618</td>\n",
       "      <td>2.336348</td>\n",
       "      <td>2.366517</td>\n",
       "      <td>19.494944</td>\n",
       "      <td>99.741573</td>\n",
       "      <td>2.295112</td>\n",
       "      <td>2.029270</td>\n",
       "      <td>0.361854</td>\n",
       "      <td>1.590899</td>\n",
       "      <td>5.058090</td>\n",
       "      <td>0.957449</td>\n",
       "      <td>2.611685</td>\n",
       "      <td>746.893258</td>\n",
       "    </tr>\n",
       "    <tr>\n",
       "      <th>std</th>\n",
       "      <td>0.811827</td>\n",
       "      <td>1.117146</td>\n",
       "      <td>0.274344</td>\n",
       "      <td>3.339564</td>\n",
       "      <td>14.282484</td>\n",
       "      <td>0.625851</td>\n",
       "      <td>0.998859</td>\n",
       "      <td>0.124453</td>\n",
       "      <td>0.572359</td>\n",
       "      <td>2.318286</td>\n",
       "      <td>0.228572</td>\n",
       "      <td>0.709990</td>\n",
       "      <td>314.907474</td>\n",
       "    </tr>\n",
       "    <tr>\n",
       "      <th>min</th>\n",
       "      <td>11.030000</td>\n",
       "      <td>0.740000</td>\n",
       "      <td>1.360000</td>\n",
       "      <td>10.600000</td>\n",
       "      <td>70.000000</td>\n",
       "      <td>0.980000</td>\n",
       "      <td>0.340000</td>\n",
       "      <td>0.130000</td>\n",
       "      <td>0.410000</td>\n",
       "      <td>1.280000</td>\n",
       "      <td>0.480000</td>\n",
       "      <td>1.270000</td>\n",
       "      <td>278.000000</td>\n",
       "    </tr>\n",
       "    <tr>\n",
       "      <th>25%</th>\n",
       "      <td>12.362500</td>\n",
       "      <td>1.602500</td>\n",
       "      <td>2.210000</td>\n",
       "      <td>17.200000</td>\n",
       "      <td>88.000000</td>\n",
       "      <td>1.742500</td>\n",
       "      <td>1.205000</td>\n",
       "      <td>0.270000</td>\n",
       "      <td>1.250000</td>\n",
       "      <td>3.220000</td>\n",
       "      <td>0.782500</td>\n",
       "      <td>1.937500</td>\n",
       "      <td>500.500000</td>\n",
       "    </tr>\n",
       "    <tr>\n",
       "      <th>50%</th>\n",
       "      <td>13.050000</td>\n",
       "      <td>1.865000</td>\n",
       "      <td>2.360000</td>\n",
       "      <td>19.500000</td>\n",
       "      <td>98.000000</td>\n",
       "      <td>2.355000</td>\n",
       "      <td>2.135000</td>\n",
       "      <td>0.340000</td>\n",
       "      <td>1.555000</td>\n",
       "      <td>4.690000</td>\n",
       "      <td>0.965000</td>\n",
       "      <td>2.780000</td>\n",
       "      <td>673.500000</td>\n",
       "    </tr>\n",
       "    <tr>\n",
       "      <th>75%</th>\n",
       "      <td>13.677500</td>\n",
       "      <td>3.082500</td>\n",
       "      <td>2.557500</td>\n",
       "      <td>21.500000</td>\n",
       "      <td>107.000000</td>\n",
       "      <td>2.800000</td>\n",
       "      <td>2.875000</td>\n",
       "      <td>0.437500</td>\n",
       "      <td>1.950000</td>\n",
       "      <td>6.200000</td>\n",
       "      <td>1.120000</td>\n",
       "      <td>3.170000</td>\n",
       "      <td>985.000000</td>\n",
       "    </tr>\n",
       "    <tr>\n",
       "      <th>max</th>\n",
       "      <td>14.830000</td>\n",
       "      <td>5.800000</td>\n",
       "      <td>3.230000</td>\n",
       "      <td>30.000000</td>\n",
       "      <td>162.000000</td>\n",
       "      <td>3.880000</td>\n",
       "      <td>5.080000</td>\n",
       "      <td>0.660000</td>\n",
       "      <td>3.580000</td>\n",
       "      <td>13.000000</td>\n",
       "      <td>1.710000</td>\n",
       "      <td>4.000000</td>\n",
       "      <td>1680.000000</td>\n",
       "    </tr>\n",
       "  </tbody>\n",
       "</table>\n",
       "</div>"
      ],
      "text/plain": [
       "          Alcohol  Malic_Acid         Ash  Ash_Alcanity   Magnesium  \\\n",
       "count  178.000000  178.000000  178.000000    178.000000  178.000000   \n",
       "mean    13.000618    2.336348    2.366517     19.494944   99.741573   \n",
       "std      0.811827    1.117146    0.274344      3.339564   14.282484   \n",
       "min     11.030000    0.740000    1.360000     10.600000   70.000000   \n",
       "25%     12.362500    1.602500    2.210000     17.200000   88.000000   \n",
       "50%     13.050000    1.865000    2.360000     19.500000   98.000000   \n",
       "75%     13.677500    3.082500    2.557500     21.500000  107.000000   \n",
       "max     14.830000    5.800000    3.230000     30.000000  162.000000   \n",
       "\n",
       "       Total_Phenols  Flavanoids  Nonflavanoid_Phenols  Proanthocyanins  \\\n",
       "count     178.000000  178.000000            178.000000       178.000000   \n",
       "mean        2.295112    2.029270              0.361854         1.590899   \n",
       "std         0.625851    0.998859              0.124453         0.572359   \n",
       "min         0.980000    0.340000              0.130000         0.410000   \n",
       "25%         1.742500    1.205000              0.270000         1.250000   \n",
       "50%         2.355000    2.135000              0.340000         1.555000   \n",
       "75%         2.800000    2.875000              0.437500         1.950000   \n",
       "max         3.880000    5.080000              0.660000         3.580000   \n",
       "\n",
       "       Color_Intensity         Hue       OD280      Proline  \n",
       "count       178.000000  178.000000  178.000000   178.000000  \n",
       "mean          5.058090    0.957449    2.611685   746.893258  \n",
       "std           2.318286    0.228572    0.709990   314.907474  \n",
       "min           1.280000    0.480000    1.270000   278.000000  \n",
       "25%           3.220000    0.782500    1.937500   500.500000  \n",
       "50%           4.690000    0.965000    2.780000   673.500000  \n",
       "75%           6.200000    1.120000    3.170000   985.000000  \n",
       "max          13.000000    1.710000    4.000000  1680.000000  "
      ]
     },
     "execution_count": 7,
     "metadata": {},
     "output_type": "execute_result"
    }
   ],
   "source": [
    "wine.describe()"
   ]
  },
  {
   "cell_type": "code",
   "execution_count": 8,
   "id": "ba085895",
   "metadata": {},
   "outputs": [
    {
     "name": "stdout",
     "output_type": "stream",
     "text": [
      "Variable   Type         Data/Info\n",
      "---------------------------------\n",
      "np         module       <module 'numpy' from 'D:\\<...>ges\\\\numpy\\\\__init__.py'>\n",
      "pd         module       <module 'pandas' from 'D:<...>es\\\\pandas\\\\__init__.py'>\n",
      "plt        module       <module 'matplotlib.pyplo<...>\\\\matplotlib\\\\pyplot.py'>\n",
      "sns        module       <module 'seaborn' from 'D<...>s\\\\seaborn\\\\__init__.py'>\n",
      "warnings   module       <module 'warnings' from '<...>older\\\\lib\\\\warnings.py'>\n",
      "wine       DataFrame         Alcohol  Malic_Acid <...>\\n[178 rows x 13 columns]\n"
     ]
    }
   ],
   "source": [
    "%whos"
   ]
  },
  {
   "cell_type": "code",
   "execution_count": 9,
   "id": "3f16b786",
   "metadata": {},
   "outputs": [
    {
     "data": {
      "text/plain": [
       "Alcohol                 float64\n",
       "Malic_Acid              float64\n",
       "Ash                     float64\n",
       "Ash_Alcanity            float64\n",
       "Magnesium                 int64\n",
       "Total_Phenols           float64\n",
       "Flavanoids              float64\n",
       "Nonflavanoid_Phenols    float64\n",
       "Proanthocyanins         float64\n",
       "Color_Intensity         float64\n",
       "Hue                     float64\n",
       "OD280                   float64\n",
       "Proline                   int64\n",
       "dtype: object"
      ]
     },
     "execution_count": 9,
     "metadata": {},
     "output_type": "execute_result"
    }
   ],
   "source": [
    "wine.dtypes"
   ]
  },
  {
   "cell_type": "code",
   "execution_count": 10,
   "id": "cbed0376",
   "metadata": {},
   "outputs": [
    {
     "data": {
      "text/plain": [
       "Alcohol                 0\n",
       "Malic_Acid              0\n",
       "Ash                     0\n",
       "Ash_Alcanity            0\n",
       "Magnesium               0\n",
       "Total_Phenols           0\n",
       "Flavanoids              0\n",
       "Nonflavanoid_Phenols    0\n",
       "Proanthocyanins         0\n",
       "Color_Intensity         0\n",
       "Hue                     0\n",
       "OD280                   0\n",
       "Proline                 0\n",
       "dtype: int64"
      ]
     },
     "execution_count": 10,
     "metadata": {},
     "output_type": "execute_result"
    }
   ],
   "source": [
    "wine.isnull().sum()"
   ]
  },
  {
   "cell_type": "markdown",
   "id": "05c1131b",
   "metadata": {},
   "source": [
    "No null values present in the data set"
   ]
  },
  {
   "cell_type": "code",
   "execution_count": 11,
   "id": "c44d3995",
   "metadata": {},
   "outputs": [
    {
     "data": {
      "text/plain": [
       "<AxesSubplot:>"
      ]
     },
     "execution_count": 11,
     "metadata": {},
     "output_type": "execute_result"
    },
    {
     "data": {
      "image/png": "[encoded data removed]",
      "text/plain": [
       "<Figure size 1440x576 with 2 Axes>"
      ]
     },
     "metadata": {
      "needs_background": "light"
     },
     "output_type": "display_data"
    }
   ],
   "source": [
    "# Correlation Analysis \n",
    "corrmatrix=wine.corr()\n",
    "plt.subplots(figsize=(20,8))\n",
    "sns.heatmap(corrmatrix,vmin=-.2,vmax=.8,annot=True,linewidth=0.2)"
   ]
  },
  {
   "cell_type": "code",
   "execution_count": 12,
   "id": "060c9f23",
   "metadata": {},
   "outputs": [
    {
     "data": {
      "image/png": "[encoded data removed]",
      "text/plain": [
       "<Figure size 1080x576 with 1 Axes>"
      ]
     },
     "metadata": {
      "needs_background": "light"
     },
     "output_type": "display_data"
    }
   ],
   "source": [
    "# Boxplot of the entire dataset\n",
    "plt.figure(figsize=(15,8))\n",
    "sns.boxplot(data= wine)\n",
    "plt.xticks(rotation = 90);"
   ]
  },
  {
   "cell_type": "code",
   "execution_count": 13,
   "id": "81be91d5",
   "metadata": {},
   "outputs": [
    {
     "data": {
      "text/html": [
       "<div>\n",
       "<style scoped>\n",
       "    .dataframe tbody tr th:only-of-type {\n",
       "        vertical-align: middle;\n",
       "    }\n",
       "\n",
       "    .dataframe tbody tr th {\n",
       "        vertical-align: top;\n",
       "    }\n",
       "\n",
       "    .dataframe thead th {\n",
       "        text-align: right;\n",
       "    }\n",
       "</style>\n",
       "<table border=\"1\" class=\"dataframe\">\n",
       "  <thead>\n",
       "    <tr style=\"text-align: right;\">\n",
       "      <th></th>\n",
       "      <th>Alcohol</th>\n",
       "      <th>Malic_Acid</th>\n",
       "      <th>Ash</th>\n",
       "      <th>Ash_Alcanity</th>\n",
       "      <th>Magnesium</th>\n",
       "      <th>Total_Phenols</th>\n",
       "      <th>Flavanoids</th>\n",
       "      <th>Nonflavanoid_Phenols</th>\n",
       "      <th>Proanthocyanins</th>\n",
       "      <th>Color_Intensity</th>\n",
       "      <th>Hue</th>\n",
       "      <th>OD280</th>\n",
       "      <th>Proline</th>\n",
       "    </tr>\n",
       "  </thead>\n",
       "  <tbody>\n",
       "    <tr>\n",
       "      <th>0</th>\n",
       "      <td>14.23</td>\n",
       "      <td>1.71</td>\n",
       "      <td>2.43</td>\n",
       "      <td>15.6</td>\n",
       "      <td>127</td>\n",
       "      <td>2.80</td>\n",
       "      <td>3.06</td>\n",
       "      <td>0.28</td>\n",
       "      <td>2.29</td>\n",
       "      <td>5.64</td>\n",
       "      <td>1.04</td>\n",
       "      <td>3.92</td>\n",
       "      <td>1065</td>\n",
       "    </tr>\n",
       "    <tr>\n",
       "      <th>1</th>\n",
       "      <td>13.20</td>\n",
       "      <td>1.78</td>\n",
       "      <td>2.14</td>\n",
       "      <td>11.2</td>\n",
       "      <td>100</td>\n",
       "      <td>2.65</td>\n",
       "      <td>2.76</td>\n",
       "      <td>0.26</td>\n",
       "      <td>1.28</td>\n",
       "      <td>4.38</td>\n",
       "      <td>1.05</td>\n",
       "      <td>3.40</td>\n",
       "      <td>1050</td>\n",
       "    </tr>\n",
       "    <tr>\n",
       "      <th>2</th>\n",
       "      <td>13.16</td>\n",
       "      <td>2.36</td>\n",
       "      <td>2.67</td>\n",
       "      <td>18.6</td>\n",
       "      <td>101</td>\n",
       "      <td>2.80</td>\n",
       "      <td>3.24</td>\n",
       "      <td>0.30</td>\n",
       "      <td>2.81</td>\n",
       "      <td>5.68</td>\n",
       "      <td>1.03</td>\n",
       "      <td>3.17</td>\n",
       "      <td>1185</td>\n",
       "    </tr>\n",
       "    <tr>\n",
       "      <th>3</th>\n",
       "      <td>14.37</td>\n",
       "      <td>1.95</td>\n",
       "      <td>2.50</td>\n",
       "      <td>16.8</td>\n",
       "      <td>113</td>\n",
       "      <td>3.85</td>\n",
       "      <td>3.49</td>\n",
       "      <td>0.24</td>\n",
       "      <td>2.18</td>\n",
       "      <td>7.80</td>\n",
       "      <td>0.86</td>\n",
       "      <td>3.45</td>\n",
       "      <td>1480</td>\n",
       "    </tr>\n",
       "    <tr>\n",
       "      <th>4</th>\n",
       "      <td>13.24</td>\n",
       "      <td>2.59</td>\n",
       "      <td>2.87</td>\n",
       "      <td>21.0</td>\n",
       "      <td>118</td>\n",
       "      <td>2.80</td>\n",
       "      <td>2.69</td>\n",
       "      <td>0.39</td>\n",
       "      <td>1.82</td>\n",
       "      <td>4.32</td>\n",
       "      <td>1.04</td>\n",
       "      <td>2.93</td>\n",
       "      <td>735</td>\n",
       "    </tr>\n",
       "  </tbody>\n",
       "</table>\n",
       "</div>"
      ],
      "text/plain": [
       "   Alcohol  Malic_Acid   Ash  Ash_Alcanity  Magnesium  Total_Phenols  \\\n",
       "0    14.23        1.71  2.43          15.6        127           2.80   \n",
       "1    13.20        1.78  2.14          11.2        100           2.65   \n",
       "2    13.16        2.36  2.67          18.6        101           2.80   \n",
       "3    14.37        1.95  2.50          16.8        113           3.85   \n",
       "4    13.24        2.59  2.87          21.0        118           2.80   \n",
       "\n",
       "   Flavanoids  Nonflavanoid_Phenols  Proanthocyanins  Color_Intensity   Hue  \\\n",
       "0        3.06                  0.28             2.29             5.64  1.04   \n",
       "1        2.76                  0.26             1.28             4.38  1.05   \n",
       "2        3.24                  0.30             2.81             5.68  1.03   \n",
       "3        3.49                  0.24             2.18             7.80  0.86   \n",
       "4        2.69                  0.39             1.82             4.32  1.04   \n",
       "\n",
       "   OD280  Proline  \n",
       "0   3.92     1065  \n",
       "1   3.40     1050  \n",
       "2   3.17     1185  \n",
       "3   3.45     1480  \n",
       "4   2.93      735  "
      ]
     },
     "execution_count": 13,
     "metadata": {},
     "output_type": "execute_result"
    }
   ],
   "source": [
    "# Creating a dupicate file\n",
    "wine_copy=wine.copy()\n",
    "wine_copy.head()"
   ]
  },
  {
   "cell_type": "code",
   "execution_count": 14,
   "id": "f4fc374d",
   "metadata": {},
   "outputs": [
    {
     "data": {
      "text/plain": [
       "<AxesSubplot:>"
      ]
     },
     "execution_count": 14,
     "metadata": {},
     "output_type": "execute_result"
    },
    {
     "data": {
      "image/png": "[encoded data removed]",
      "text/plain": [
       "<Figure size 432x288 with 1 Axes>"
      ]
     },
     "metadata": {
      "needs_background": "light"
     },
     "output_type": "display_data"
    }
   ],
   "source": [
    "# Checking for outliers in the column 'Malic_Acid'\n",
    "sns.boxplot(data=wine_copy['Malic_Acid'])"
   ]
  },
  {
   "cell_type": "code",
   "execution_count": 15,
   "id": "1efe93d2",
   "metadata": {},
   "outputs": [
    {
     "name": "stdout",
     "output_type": "stream",
     "text": [
      "Q1 =  1.605\n",
      "Q2 =  1.8650000000000002\n",
      "Q3 =  3.065\n",
      "\n",
      "Lower limit =  -0.585\n",
      "Upper limit =  5.255\n",
      "\n",
      "The outliers are :  [5.8, 5.51, 5.65]\n"
     ]
    }
   ],
   "source": [
    "# Handling outliers in the column 'Malic_Acid'\n",
    "Q1=np.percentile(wine_copy['Malic_Acid'],25,interpolation='midpoint')\n",
    "Q2=np.percentile(wine_copy['Malic_Acid'],50,interpolation='midpoint')\n",
    "Q3=np.percentile(wine_copy['Malic_Acid'],75,interpolation='midpoint')\n",
    "print('Q1 = ',Q1)\n",
    "print('Q2 = ',Q2)\n",
    "print('Q3 = ',Q3)\n",
    "IQR=Q3-Q1\n",
    "low_limit=Q1-1.5*IQR\n",
    "up_limit=Q3+1.5*IQR\n",
    "print(\"\\nLower limit = \",low_limit)\n",
    "print(\"Upper limit = \",up_limit)\n",
    "outlier=[]\n",
    "for x in wine_copy['Malic_Acid']:\n",
    "    if((x>up_limit) or (x<low_limit)):\n",
    "        outlier.append(x)\n",
    "print(\"\\nThe outliers are : \" ,outlier)"
   ]
  },
  {
   "cell_type": "code",
   "execution_count": 16,
   "id": "f30d2f63",
   "metadata": {},
   "outputs": [
    {
     "data": {
      "text/plain": [
       "Int64Index([123, 137, 173], dtype='int64')"
      ]
     },
     "execution_count": 16,
     "metadata": {},
     "output_type": "execute_result"
    }
   ],
   "source": [
    "ind1 = wine_copy[(wine_copy['Malic_Acid'] < low_limit) | (wine_copy['Malic_Acid'] > up_limit)].index\n",
    "wine_copy.loc[ind1].index"
   ]
  },
  {
   "cell_type": "code",
   "execution_count": 17,
   "id": "00bb3759",
   "metadata": {},
   "outputs": [
    {
     "data": {
      "text/html": [
       "<div>\n",
       "<style scoped>\n",
       "    .dataframe tbody tr th:only-of-type {\n",
       "        vertical-align: middle;\n",
       "    }\n",
       "\n",
       "    .dataframe tbody tr th {\n",
       "        vertical-align: top;\n",
       "    }\n",
       "\n",
       "    .dataframe thead th {\n",
       "        text-align: right;\n",
       "    }\n",
       "</style>\n",
       "<table border=\"1\" class=\"dataframe\">\n",
       "  <thead>\n",
       "    <tr style=\"text-align: right;\">\n",
       "      <th></th>\n",
       "      <th>Alcohol</th>\n",
       "      <th>Malic_Acid</th>\n",
       "      <th>Ash</th>\n",
       "      <th>Ash_Alcanity</th>\n",
       "      <th>Magnesium</th>\n",
       "      <th>Total_Phenols</th>\n",
       "      <th>Flavanoids</th>\n",
       "      <th>Nonflavanoid_Phenols</th>\n",
       "      <th>Proanthocyanins</th>\n",
       "      <th>Color_Intensity</th>\n",
       "      <th>Hue</th>\n",
       "      <th>OD280</th>\n",
       "      <th>Proline</th>\n",
       "    </tr>\n",
       "  </thead>\n",
       "  <tbody>\n",
       "    <tr>\n",
       "      <th>0</th>\n",
       "      <td>14.23</td>\n",
       "      <td>1.71</td>\n",
       "      <td>2.43</td>\n",
       "      <td>15.6</td>\n",
       "      <td>127</td>\n",
       "      <td>2.80</td>\n",
       "      <td>3.06</td>\n",
       "      <td>0.28</td>\n",
       "      <td>2.29</td>\n",
       "      <td>5.64</td>\n",
       "      <td>1.04</td>\n",
       "      <td>3.92</td>\n",
       "      <td>1065</td>\n",
       "    </tr>\n",
       "    <tr>\n",
       "      <th>1</th>\n",
       "      <td>13.20</td>\n",
       "      <td>1.78</td>\n",
       "      <td>2.14</td>\n",
       "      <td>11.2</td>\n",
       "      <td>100</td>\n",
       "      <td>2.65</td>\n",
       "      <td>2.76</td>\n",
       "      <td>0.26</td>\n",
       "      <td>1.28</td>\n",
       "      <td>4.38</td>\n",
       "      <td>1.05</td>\n",
       "      <td>3.40</td>\n",
       "      <td>1050</td>\n",
       "    </tr>\n",
       "    <tr>\n",
       "      <th>2</th>\n",
       "      <td>13.16</td>\n",
       "      <td>2.36</td>\n",
       "      <td>2.67</td>\n",
       "      <td>18.6</td>\n",
       "      <td>101</td>\n",
       "      <td>2.80</td>\n",
       "      <td>3.24</td>\n",
       "      <td>0.30</td>\n",
       "      <td>2.81</td>\n",
       "      <td>5.68</td>\n",
       "      <td>1.03</td>\n",
       "      <td>3.17</td>\n",
       "      <td>1185</td>\n",
       "    </tr>\n",
       "    <tr>\n",
       "      <th>3</th>\n",
       "      <td>14.37</td>\n",
       "      <td>1.95</td>\n",
       "      <td>2.50</td>\n",
       "      <td>16.8</td>\n",
       "      <td>113</td>\n",
       "      <td>3.85</td>\n",
       "      <td>3.49</td>\n",
       "      <td>0.24</td>\n",
       "      <td>2.18</td>\n",
       "      <td>7.80</td>\n",
       "      <td>0.86</td>\n",
       "      <td>3.45</td>\n",
       "      <td>1480</td>\n",
       "    </tr>\n",
       "    <tr>\n",
       "      <th>4</th>\n",
       "      <td>13.24</td>\n",
       "      <td>2.59</td>\n",
       "      <td>2.87</td>\n",
       "      <td>21.0</td>\n",
       "      <td>118</td>\n",
       "      <td>2.80</td>\n",
       "      <td>2.69</td>\n",
       "      <td>0.39</td>\n",
       "      <td>1.82</td>\n",
       "      <td>4.32</td>\n",
       "      <td>1.04</td>\n",
       "      <td>2.93</td>\n",
       "      <td>735</td>\n",
       "    </tr>\n",
       "    <tr>\n",
       "      <th>...</th>\n",
       "      <td>...</td>\n",
       "      <td>...</td>\n",
       "      <td>...</td>\n",
       "      <td>...</td>\n",
       "      <td>...</td>\n",
       "      <td>...</td>\n",
       "      <td>...</td>\n",
       "      <td>...</td>\n",
       "      <td>...</td>\n",
       "      <td>...</td>\n",
       "      <td>...</td>\n",
       "      <td>...</td>\n",
       "      <td>...</td>\n",
       "    </tr>\n",
       "    <tr>\n",
       "      <th>172</th>\n",
       "      <td>14.16</td>\n",
       "      <td>2.51</td>\n",
       "      <td>2.48</td>\n",
       "      <td>20.0</td>\n",
       "      <td>91</td>\n",
       "      <td>1.68</td>\n",
       "      <td>0.70</td>\n",
       "      <td>0.44</td>\n",
       "      <td>1.24</td>\n",
       "      <td>9.70</td>\n",
       "      <td>0.62</td>\n",
       "      <td>1.71</td>\n",
       "      <td>660</td>\n",
       "    </tr>\n",
       "    <tr>\n",
       "      <th>174</th>\n",
       "      <td>13.40</td>\n",
       "      <td>3.91</td>\n",
       "      <td>2.48</td>\n",
       "      <td>23.0</td>\n",
       "      <td>102</td>\n",
       "      <td>1.80</td>\n",
       "      <td>0.75</td>\n",
       "      <td>0.43</td>\n",
       "      <td>1.41</td>\n",
       "      <td>7.30</td>\n",
       "      <td>0.70</td>\n",
       "      <td>1.56</td>\n",
       "      <td>750</td>\n",
       "    </tr>\n",
       "    <tr>\n",
       "      <th>175</th>\n",
       "      <td>13.27</td>\n",
       "      <td>4.28</td>\n",
       "      <td>2.26</td>\n",
       "      <td>20.0</td>\n",
       "      <td>120</td>\n",
       "      <td>1.59</td>\n",
       "      <td>0.69</td>\n",
       "      <td>0.43</td>\n",
       "      <td>1.35</td>\n",
       "      <td>10.20</td>\n",
       "      <td>0.59</td>\n",
       "      <td>1.56</td>\n",
       "      <td>835</td>\n",
       "    </tr>\n",
       "    <tr>\n",
       "      <th>176</th>\n",
       "      <td>13.17</td>\n",
       "      <td>2.59</td>\n",
       "      <td>2.37</td>\n",
       "      <td>20.0</td>\n",
       "      <td>120</td>\n",
       "      <td>1.65</td>\n",
       "      <td>0.68</td>\n",
       "      <td>0.53</td>\n",
       "      <td>1.46</td>\n",
       "      <td>9.30</td>\n",
       "      <td>0.60</td>\n",
       "      <td>1.62</td>\n",
       "      <td>840</td>\n",
       "    </tr>\n",
       "    <tr>\n",
       "      <th>177</th>\n",
       "      <td>14.13</td>\n",
       "      <td>4.10</td>\n",
       "      <td>2.74</td>\n",
       "      <td>24.5</td>\n",
       "      <td>96</td>\n",
       "      <td>2.05</td>\n",
       "      <td>0.76</td>\n",
       "      <td>0.56</td>\n",
       "      <td>1.35</td>\n",
       "      <td>9.20</td>\n",
       "      <td>0.61</td>\n",
       "      <td>1.60</td>\n",
       "      <td>560</td>\n",
       "    </tr>\n",
       "  </tbody>\n",
       "</table>\n",
       "<p>175 rows × 13 columns</p>\n",
       "</div>"
      ],
      "text/plain": [
       "     Alcohol  Malic_Acid   Ash  Ash_Alcanity  Magnesium  Total_Phenols  \\\n",
       "0      14.23        1.71  2.43          15.6        127           2.80   \n",
       "1      13.20        1.78  2.14          11.2        100           2.65   \n",
       "2      13.16        2.36  2.67          18.6        101           2.80   \n",
       "3      14.37        1.95  2.50          16.8        113           3.85   \n",
       "4      13.24        2.59  2.87          21.0        118           2.80   \n",
       "..       ...         ...   ...           ...        ...            ...   \n",
       "172    14.16        2.51  2.48          20.0         91           1.68   \n",
       "174    13.40        3.91  2.48          23.0        102           1.80   \n",
       "175    13.27        4.28  2.26          20.0        120           1.59   \n",
       "176    13.17        2.59  2.37          20.0        120           1.65   \n",
       "177    14.13        4.10  2.74          24.5         96           2.05   \n",
       "\n",
       "     Flavanoids  Nonflavanoid_Phenols  Proanthocyanins  Color_Intensity   Hue  \\\n",
       "0          3.06                  0.28             2.29             5.64  1.04   \n",
       "1          2.76                  0.26             1.28             4.38  1.05   \n",
       "2          3.24                  0.30             2.81             5.68  1.03   \n",
       "3          3.49                  0.24             2.18             7.80  0.86   \n",
       "4          2.69                  0.39             1.82             4.32  1.04   \n",
       "..          ...                   ...              ...              ...   ...   \n",
       "172        0.70                  0.44             1.24             9.70  0.62   \n",
       "174        0.75                  0.43             1.41             7.30  0.70   \n",
       "175        0.69                  0.43             1.35            10.20  0.59   \n",
       "176        0.68                  0.53             1.46             9.30  0.60   \n",
       "177        0.76                  0.56             1.35             9.20  0.61   \n",
       "\n",
       "     OD280  Proline  \n",
       "0     3.92     1065  \n",
       "1     3.40     1050  \n",
       "2     3.17     1185  \n",
       "3     3.45     1480  \n",
       "4     2.93      735  \n",
       "..     ...      ...  \n",
       "172   1.71      660  \n",
       "174   1.56      750  \n",
       "175   1.56      835  \n",
       "176   1.62      840  \n",
       "177   1.60      560  \n",
       "\n",
       "[175 rows x 13 columns]"
      ]
     },
     "execution_count": 17,
     "metadata": {},
     "output_type": "execute_result"
    }
   ],
   "source": [
    "wine_copy.drop(ind1,inplace=True)\n",
    "wine_copy"
   ]
  },
  {
   "cell_type": "code",
   "execution_count": null,
   "id": "ac9fe214",
   "metadata": {},
   "outputs": [],
   "source": [
    "# After removing  outliers in the column 'Malic_Acid'\n",
    "sns.boxplot(data=wine_copy['Malic_Acid'])"
   ]
  },
  {
   "cell_type": "code",
   "execution_count": null,
   "id": "db9e69bd",
   "metadata": {},
   "outputs": [],
   "source": [
    "# Checking for outliers in the column 'Ash'\n",
    "sns.boxplot(data=wine_copy['Ash'])"
   ]
  },
  {
   "cell_type": "code",
   "execution_count": null,
   "id": "bfd78d3f",
   "metadata": {},
   "outputs": [],
   "source": [
    "# Handling outliers in the column 'Ash'\n",
    "Q1=np.percentile(wine_copy['Ash'],25,interpolation='midpoint')\n",
    "Q2=np.percentile(wine_copy['Ash'],50,interpolation='midpoint')\n",
    "Q3=np.percentile(wine_copy['Ash'],75,interpolation='midpoint')\n",
    "print('Q1 = ',Q1)\n",
    "print('Q2 = ',Q2)\n",
    "print('Q3 = ',Q3)\n",
    "IQR=Q3-Q1\n",
    "low_limit=Q1-1.5*IQR\n",
    "up_limit=Q3+1.5*IQR\n",
    "print(\"\\nLower limit = \",low_limit)\n",
    "print(\"Upper limit = \",up_limit)\n",
    "outlier=[]\n",
    "for x in wine_copy['Ash']:\n",
    "    if((x>up_limit) or (x<low_limit)):\n",
    "        outlier.append(x)\n",
    "print(\"\\nThe outliers are : \" ,outlier)"
   ]
  },
  {
   "cell_type": "code",
   "execution_count": null,
   "id": "c746323d",
   "metadata": {},
   "outputs": [],
   "source": [
    "ind1 = wine_copy[(wine_copy['Ash'] < low_limit) | (wine_copy['Ash'] > up_limit)].index\n",
    "wine_copy.loc[ind1].index"
   ]
  },
  {
   "cell_type": "code",
   "execution_count": null,
   "id": "d0b522ec",
   "metadata": {},
   "outputs": [],
   "source": [
    "wine_copy.drop(ind1,inplace=True)\n",
    "wine_copy"
   ]
  },
  {
   "cell_type": "code",
   "execution_count": null,
   "id": "fc191579",
   "metadata": {},
   "outputs": [],
   "source": [
    "# After removing  outliers in the column 'Ash'\n",
    "sns.boxplot(data=wine_copy['Ash'])"
   ]
  },
  {
   "cell_type": "code",
   "execution_count": null,
   "id": "eeab5b9b",
   "metadata": {},
   "outputs": [],
   "source": [
    "# Checking for outliers in the column 'Ash_Alcanity'\n",
    "sns.boxplot(data=wine_copy['Ash_Alcanity'])"
   ]
  },
  {
   "cell_type": "code",
   "execution_count": null,
   "id": "0d6cf02b",
   "metadata": {},
   "outputs": [],
   "source": [
    "# Handling outliers in the column 'Ash_Alcanity'\n",
    "Q1=np.percentile(wine_copy['Ash_Alcanity'],25,interpolation='midpoint')\n",
    "Q2=np.percentile(wine_copy['Ash_Alcanity'],50,interpolation='midpoint')\n",
    "Q3=np.percentile(wine_copy['Ash_Alcanity'],75,interpolation='midpoint')\n",
    "print('Q1 = ',Q1)\n",
    "print('Q2 = ',Q2)\n",
    "print('Q3 = ',Q3)\n",
    "IQR=Q3-Q1\n",
    "low_limit=Q1-1.5*IQR\n",
    "up_limit=Q3+1.5*IQR\n",
    "print(\"\\nLower limit = \",low_limit)\n",
    "print(\"Upper limit = \",up_limit)\n",
    "outlier=[]\n",
    "for x in wine_copy['Ash_Alcanity']:\n",
    "    if((x>up_limit) or (x<low_limit)):\n",
    "        outlier.append(x)\n",
    "print(\"\\nThe outliers are : \" ,outlier)"
   ]
  },
  {
   "cell_type": "code",
   "execution_count": null,
   "id": "0a243cb8",
   "metadata": {},
   "outputs": [],
   "source": [
    "ind1 = wine_copy[(wine_copy['Ash_Alcanity'] < low_limit) | (wine_copy['Ash_Alcanity'] > up_limit)].index\n",
    "wine_copy.loc[ind1].index"
   ]
  },
  {
   "cell_type": "code",
   "execution_count": null,
   "id": "05900878",
   "metadata": {},
   "outputs": [],
   "source": [
    "wine_copy.drop(ind1,inplace=True)\n",
    "wine_copy"
   ]
  },
  {
   "cell_type": "code",
   "execution_count": null,
   "id": "3f3159d1",
   "metadata": {},
   "outputs": [],
   "source": [
    "# After removing  outliers in the column 'Ash_Alcanity'\n",
    "sns.boxplot(data=wine_copy['Ash_Alcanity'])"
   ]
  },
  {
   "cell_type": "code",
   "execution_count": null,
   "id": "dab8631b",
   "metadata": {},
   "outputs": [],
   "source": [
    "# Checking for outliers in the column 'Magnesium'\n",
    "sns.boxplot(data=wine_copy['Magnesium'])"
   ]
  },
  {
   "cell_type": "code",
   "execution_count": null,
   "id": "676666ff",
   "metadata": {},
   "outputs": [],
   "source": [
    "# Handling outliers in the column 'Magnesium'\n",
    "Q1=np.percentile(wine_copy['Magnesium'],25,interpolation='midpoint')\n",
    "Q2=np.percentile(wine_copy['Magnesium'],50,interpolation='midpoint')\n",
    "Q3=np.percentile(wine_copy['Magnesium'],75,interpolation='midpoint')\n",
    "print('Q1 = ',Q1)\n",
    "print('Q2 = ',Q2)\n",
    "print('Q3 = ',Q3)\n",
    "IQR=Q3-Q1\n",
    "low_limit=Q1-1.5*IQR\n",
    "up_limit=Q3+1.5*IQR\n",
    "print(\"\\nLower limit = \",low_limit)\n",
    "print(\"Upper limit = \",up_limit)\n",
    "outlier=[]\n",
    "for x in wine_copy['Magnesium']:\n",
    "    if((x>up_limit) or (x<low_limit)):\n",
    "        outlier.append(x)\n",
    "print(\"\\nThe outliers are : \" ,outlier)"
   ]
  },
  {
   "cell_type": "code",
   "execution_count": null,
   "id": "9b1bcdeb",
   "metadata": {},
   "outputs": [],
   "source": [
    "ind1 = wine_copy[(wine_copy['Magnesium'] < low_limit) | (wine_copy['Magnesium'] > up_limit)].index\n",
    "wine_copy.loc[ind1].index"
   ]
  },
  {
   "cell_type": "code",
   "execution_count": null,
   "id": "716b47ab",
   "metadata": {},
   "outputs": [],
   "source": [
    "wine_copy.drop(ind1,inplace=True)\n",
    "wine_copy"
   ]
  },
  {
   "cell_type": "code",
   "execution_count": null,
   "id": "326f5c7d",
   "metadata": {},
   "outputs": [],
   "source": [
    "# After removing  outliers in the column 'Magnesium'\n",
    "sns.boxplot(data=wine_copy['Magnesium'])"
   ]
  },
  {
   "cell_type": "code",
   "execution_count": null,
   "id": "6177aa13",
   "metadata": {},
   "outputs": [],
   "source": [
    "# Checking for outliers in the column 'Proanthocyanins'\n",
    "sns.boxplot(data=wine_copy['Proanthocyanins'])"
   ]
  },
  {
   "cell_type": "code",
   "execution_count": null,
   "id": "eb4c568f",
   "metadata": {},
   "outputs": [],
   "source": [
    "# Handling outliers in the column 'Proanthocyanins'\n",
    "Q1=np.percentile(wine_copy['Proanthocyanins'],25,interpolation='midpoint')\n",
    "Q2=np.percentile(wine_copy['Proanthocyanins'],50,interpolation='midpoint')\n",
    "Q3=np.percentile(wine_copy['Proanthocyanins'],75,interpolation='midpoint')\n",
    "print('Q1 = ',Q1)\n",
    "print('Q2 = ',Q2)\n",
    "print('Q3 = ',Q3)\n",
    "IQR=Q3-Q1\n",
    "low_limit=Q1-1.5*IQR\n",
    "up_limit=Q3+1.5*IQR\n",
    "print(\"\\nLower limit = \",low_limit)\n",
    "print(\"Upper limit = \",up_limit)\n",
    "outlier=[]\n",
    "for x in wine_copy['Proanthocyanins']:\n",
    "    if((x>up_limit) or (x<low_limit)):\n",
    "        outlier.append(x)\n",
    "print(\"\\nThe outliers are : \" ,outlier)"
   ]
  },
  {
   "cell_type": "code",
   "execution_count": null,
   "id": "68af821a",
   "metadata": {},
   "outputs": [],
   "source": [
    "ind1 = wine_copy[(wine_copy['Proanthocyanins'] < low_limit) | (wine_copy['Proanthocyanins'] > up_limit)].index\n",
    "wine_copy.loc[ind1].index"
   ]
  },
  {
   "cell_type": "code",
   "execution_count": null,
   "id": "910dbf23",
   "metadata": {},
   "outputs": [],
   "source": [
    "wine_copy.drop(ind1,inplace=True)\n",
    "wine_copy"
   ]
  },
  {
   "cell_type": "code",
   "execution_count": null,
   "id": "af3c5969",
   "metadata": {},
   "outputs": [],
   "source": [
    "# After removing  outliers in the column 'Proanthocyanins'\n",
    "sns.boxplot(data=wine_copy['Proanthocyanins'])"
   ]
  },
  {
   "cell_type": "code",
   "execution_count": null,
   "id": "e59b5919",
   "metadata": {},
   "outputs": [],
   "source": [
    "# Checking for outliers in the column 'Color_Intensity'\n",
    "sns.boxplot(data=wine_copy['Color_Intensity'])"
   ]
  },
  {
   "cell_type": "code",
   "execution_count": null,
   "id": "cb6e69ba",
   "metadata": {},
   "outputs": [],
   "source": [
    "# Handling outliers in the column 'Color_Intensity'\n",
    "Q1=np.percentile(wine_copy['Color_Intensity'],25,interpolation='midpoint')\n",
    "Q2=np.percentile(wine_copy['Color_Intensity'],50,interpolation='midpoint')\n",
    "Q3=np.percentile(wine_copy['Color_Intensity'],75,interpolation='midpoint')\n",
    "print('Q1 = ',Q1)\n",
    "print('Q2 = ',Q2)\n",
    "print('Q3 = ',Q3)\n",
    "IQR=Q3-Q1\n",
    "low_limit=Q1-1.5*IQR\n",
    "up_limit=Q3+1.5*IQR\n",
    "print(\"\\nLower limit = \",low_limit)\n",
    "print(\"Upper limit = \",up_limit)\n",
    "outlier=[]\n",
    "for x in wine_copy['Color_Intensity']:\n",
    "    if((x>up_limit) or (x<low_limit)):\n",
    "        outlier.append(x)\n",
    "print(\"\\nThe outliers are : \" ,outlier)"
   ]
  },
  {
   "cell_type": "code",
   "execution_count": null,
   "id": "e6cd5dec",
   "metadata": {},
   "outputs": [],
   "source": [
    "ind1 = wine_copy[(wine_copy['Color_Intensity'] < low_limit) | (wine_copy['Color_Intensity'] > up_limit)].index\n",
    "wine_copy.loc[ind1].index"
   ]
  },
  {
   "cell_type": "code",
   "execution_count": null,
   "id": "f8548cb1",
   "metadata": {},
   "outputs": [],
   "source": [
    "wine_copy.drop(ind1,inplace=True)\n",
    "wine_copy"
   ]
  },
  {
   "cell_type": "code",
   "execution_count": null,
   "id": "9126024a",
   "metadata": {},
   "outputs": [],
   "source": [
    "# After removing  outliers in the column 'Color_Intensity'\n",
    "sns.boxplot(data=wine_copy['Color_Intensity'])"
   ]
  },
  {
   "cell_type": "code",
   "execution_count": null,
   "id": "5b667021",
   "metadata": {},
   "outputs": [],
   "source": [
    "# Checking for outliers in the column 'Hue'\n",
    "sns.boxplot(data=wine_copy['Hue'])"
   ]
  },
  {
   "cell_type": "code",
   "execution_count": null,
   "id": "d89a320e",
   "metadata": {},
   "outputs": [],
   "source": [
    "# Handling outliers in the column 'Hue'\n",
    "Q1=np.percentile(wine_copy['Hue'],25,interpolation='midpoint')\n",
    "Q2=np.percentile(wine_copy['Hue'],50,interpolation='midpoint')\n",
    "Q3=np.percentile(wine_copy['Hue'],75,interpolation='midpoint')\n",
    "print('Q1 = ',Q1)\n",
    "print('Q2 = ',Q2)\n",
    "print('Q3 = ',Q3)\n",
    "IQR=Q3-Q1\n",
    "low_limit=Q1-1.5*IQR\n",
    "up_limit=Q3+1.5*IQR\n",
    "print(\"\\nLower limit = \",low_limit)\n",
    "print(\"Upper limit = \",up_limit)\n",
    "outlier=[]\n",
    "for x in wine_copy['Hue']:\n",
    "    if((x>up_limit) or (x<low_limit)):\n",
    "        outlier.append(x)\n",
    "print(\"\\nThe outliers are : \" ,outlier)"
   ]
  },
  {
   "cell_type": "code",
   "execution_count": null,
   "id": "8e4a4b2f",
   "metadata": {},
   "outputs": [],
   "source": [
    "ind1 = wine_copy[(wine_copy['Hue'] < low_limit) | (wine_copy['Hue'] > up_limit)].index\n",
    "wine_copy.loc[ind1].index"
   ]
  },
  {
   "cell_type": "code",
   "execution_count": null,
   "id": "ed914e9d",
   "metadata": {},
   "outputs": [],
   "source": [
    "wine_copy.drop(ind1,inplace=True)\n",
    "wine_copy"
   ]
  },
  {
   "cell_type": "code",
   "execution_count": null,
   "id": "3c1ac679",
   "metadata": {},
   "outputs": [],
   "source": [
    "# After removing  outliers in the column 'Hue'\n",
    "sns.boxplot(data=wine_copy['Hue'])"
   ]
  },
  {
   "cell_type": "markdown",
   "id": "4ba3cad7",
   "metadata": {},
   "source": [
    "Now all the outliers are removed from the dataset"
   ]
  },
  {
   "cell_type": "code",
   "execution_count": null,
   "id": "30cc9593",
   "metadata": {},
   "outputs": [],
   "source": [
    "wine_copy.shape"
   ]
  },
  {
   "cell_type": "code",
   "execution_count": null,
   "id": "12670b11",
   "metadata": {},
   "outputs": [],
   "source": [
    "wine_copy.describe()"
   ]
  },
  {
   "cell_type": "code",
   "execution_count": null,
   "id": "194b060e",
   "metadata": {},
   "outputs": [],
   "source": [
    "# Creating 2 duplicates of the outlier removed data.\n",
    "\n",
    "scaled_wine = wine_copy.copy()\n",
    "\n",
    "norm_wine = wine_copy.copy()"
   ]
  },
  {
   "cell_type": "code",
   "execution_count": null,
   "id": "3dad3cda",
   "metadata": {},
   "outputs": [],
   "source": [
    "# Standard scaling the dataset.\n",
    "from sklearn.preprocessing import StandardScaler\n",
    "scaler = StandardScaler()\n",
    "scaled_data = scaler.fit_transform(scaled_wine)\n",
    "pd.DataFrame(scaled_data).describe()"
   ]
  },
  {
   "cell_type": "markdown",
   "id": "4945caea",
   "metadata": {},
   "source": [
    "## KMeans Model"
   ]
  },
  {
   "cell_type": "code",
   "execution_count": null,
   "id": "009f6ee4",
   "metadata": {},
   "outputs": [],
   "source": [
    "# Finding optimum number of clusters using scaled data\n",
    "\n",
    "from sklearn.cluster import KMeans\n",
    "inertia = []\n",
    "for k in range(1,6):\n",
    "    model = KMeans(n_clusters=k)\n",
    "    model.fit(scaled_data)\n",
    "    inertia.append(model.inertia_)\n",
    "print(inertia)"
   ]
  },
  {
   "cell_type": "code",
   "execution_count": null,
   "id": "294b3def",
   "metadata": {},
   "outputs": [],
   "source": [
    "plt.plot(range(1,6),inertia,'-o')\n",
    "plt.xlabel(\"No. of clusters\")\n",
    "plt.ylabel(\"Inertia\")\n",
    "plt.show()"
   ]
  },
  {
   "cell_type": "markdown",
   "id": "7df83ee6",
   "metadata": {},
   "source": [
    "From the elbow method, the optimum number of clusters =3"
   ]
  },
  {
   "cell_type": "code",
   "execution_count": null,
   "id": "36b13f2a",
   "metadata": {},
   "outputs": [],
   "source": [
    "# Creating KMeans model for scaled data\n",
    "kmeans_sc = KMeans(n_clusters=3)\n",
    "kmeans_sc.fit(scaled_data)\n",
    "label_sc = kmeans_sc.predict(scaled_data)\n",
    "print(label_sc)"
   ]
  },
  {
   "cell_type": "code",
   "execution_count": null,
   "id": "bd7217d9",
   "metadata": {},
   "outputs": [],
   "source": [
    "# Checking the sihouette score for scaled kmeans model\n",
    "from sklearn.metrics import silhouette_score\n",
    "print(f'Silhouette Score(n=3): {silhouette_score(scaled_data, label_sc)}')"
   ]
  },
  {
   "cell_type": "code",
   "execution_count": null,
   "id": "bade0ab6",
   "metadata": {},
   "outputs": [],
   "source": [
    "# Normalizing the dataset\n",
    "from sklearn.preprocessing import Normalizer\n",
    "norm=Normalizer()\n",
    "norm_data = norm.fit_transform(norm_wine)\n",
    "pd.DataFrame(norm_data).describe()"
   ]
  },
  {
   "cell_type": "code",
   "execution_count": null,
   "id": "3ca0ad6f",
   "metadata": {},
   "outputs": [],
   "source": [
    "# Finding optimum number of clusters using normalized data\n",
    "inertia_n = []\n",
    "for k in range(1,6):\n",
    "    model_n = KMeans(n_clusters=k)\n",
    "    model_n.fit(norm_data)\n",
    "    inertia_n.append(model_n.inertia_)\n",
    "    \n",
    "print(inertia_n)\n",
    "\n",
    "plt.plot(range(1,6),inertia_n,'-o')\n",
    "plt.xlabel(\"No. of clusters\")\n",
    "plt.ylabel(\"Inertia\")"
   ]
  },
  {
   "cell_type": "markdown",
   "id": "fd2c1ac4",
   "metadata": {},
   "source": [
    "Here also the optimum number of clusters =3"
   ]
  },
  {
   "cell_type": "code",
   "execution_count": null,
   "id": "58e52e4a",
   "metadata": {},
   "outputs": [],
   "source": [
    "# Creating KMeans model for normalized data\n",
    "kmeans_no = KMeans(n_clusters=3)\n",
    "kmeans_no.fit(norm_data)\n",
    "label_no = kmeans_no.predict(norm_data)\n",
    "print(label_no)"
   ]
  },
  {
   "cell_type": "code",
   "execution_count": null,
   "id": "1bfb60d8",
   "metadata": {},
   "outputs": [],
   "source": [
    "# Checking the sihouette score for normalized kmeans model\n",
    "print(f'Silhouette Score(n=3): {silhouette_score(norm_data, label_no)}')"
   ]
  },
  {
   "cell_type": "markdown",
   "id": "adf80b3f",
   "metadata": {},
   "source": [
    "We observe that for normalized data with n=3, we get better Silhouette score(0.5348..)"
   ]
  },
  {
   "cell_type": "markdown",
   "id": "33817350",
   "metadata": {},
   "source": [
    "Hence we can use the Normalized data with 3 Clusters for our KMeans Model."
   ]
  },
  {
   "cell_type": "code",
   "execution_count": null,
   "id": "ac8431c1",
   "metadata": {},
   "outputs": [],
   "source": [
    "# Performing PCA\n",
    "from sklearn.decomposition import PCA\n",
    "pca=PCA(0.99)\n",
    "pca.fit(norm_data)\n",
    "wine_pca=pca.transform(norm_data)\n",
    "wine_pca.shape"
   ]
  },
  {
   "cell_type": "markdown",
   "id": "78ac3e12",
   "metadata": {},
   "source": [
    "The feature count is reduced to 2 by performing PCA"
   ]
  },
  {
   "cell_type": "code",
   "execution_count": null,
   "id": "1f030aa0",
   "metadata": {},
   "outputs": [],
   "source": [
    "kmeans_pca_n = KMeans(n_clusters=3)\n",
    "kmeans_pca_n.fit(wine_pca)\n",
    "label_pca_n = kmeans_pca_n.predict(wine_pca)\n",
    "\n",
    "print(label_pca_n)"
   ]
  },
  {
   "cell_type": "code",
   "execution_count": null,
   "id": "0fd1b073",
   "metadata": {},
   "outputs": [],
   "source": [
    "print(f'Silhouette Score(n=3): {silhouette_score(wine_pca, label_pca_n)}')"
   ]
  },
  {
   "cell_type": "markdown",
   "id": "2a930419",
   "metadata": {},
   "source": [
    "Now it is seen that after doing PCA the Silhoutte sscore of the KMeans model is improved to 0.547624.."
   ]
  },
  {
   "cell_type": "markdown",
   "id": "df509c73",
   "metadata": {},
   "source": [
    "## Agglomerative Hierarchical Model"
   ]
  },
  {
   "cell_type": "code",
   "execution_count": null,
   "id": "8529f645",
   "metadata": {},
   "outputs": [],
   "source": [
    "# Dendrogram to find the number of clusters using scaled data\n",
    "from scipy.cluster.hierarchy import dendrogram,linkage\n",
    "linked=linkage(scaled_data,method='ward')\n",
    "plt.figure(figsize=(15,8))\n",
    "dendrogram(linked,orientation='top',distance_sort='ascending',show_leaf_counts=True)\n",
    "plt.hlines(13,0,5000,colors='r',linestyles='dashed')\n",
    "plt.show()"
   ]
  },
  {
   "cell_type": "markdown",
   "id": "96e075db",
   "metadata": {},
   "source": [
    "Here we can take the optimum number of clusters =3"
   ]
  },
  {
   "cell_type": "code",
   "execution_count": null,
   "id": "852a255c",
   "metadata": {},
   "outputs": [],
   "source": [
    "# Dendrogram to find the number of clusters using normalized data\n",
    "linked=linkage(norm_data,method='ward')\n",
    "plt.figure(figsize=(15,8))\n",
    "dendrogram(linked,orientation='top',distance_sort='ascending',show_leaf_counts=True)\n",
    "plt.hlines(0.5,0,5000,colors='r',linestyles='dashed')\n",
    "plt.show()"
   ]
  },
  {
   "cell_type": "markdown",
   "id": "73c24cf0",
   "metadata": {},
   "source": [
    "Here optimum number of clusters=2"
   ]
  },
  {
   "cell_type": "code",
   "execution_count": null,
   "id": "8769c5eb",
   "metadata": {},
   "outputs": [],
   "source": [
    "# Creating AHC Model for scaled data\n",
    "from sklearn.cluster import AgglomerativeClustering\n",
    "cluster_sc = AgglomerativeClustering(n_clusters = 3, affinity=\"euclidean\", linkage=\"ward\")\n",
    "ahclabel_sc = cluster_sc.fit_predict(scaled_data)\n",
    "print(ahclabel_sc)"
   ]
  },
  {
   "cell_type": "code",
   "execution_count": null,
   "id": "8f932e58",
   "metadata": {},
   "outputs": [],
   "source": [
    "print(f'Silhouette Score(n=3): {silhouette_score(scaled_data, ahclabel_sc)}')"
   ]
  },
  {
   "cell_type": "code",
   "execution_count": null,
   "id": "bca812a3",
   "metadata": {},
   "outputs": [],
   "source": [
    "# Creating AHC Model for normalized data\n",
    "cluster_no = AgglomerativeClustering(n_clusters = 2, affinity=\"euclidean\", linkage=\"ward\")\n",
    "ahclabel_no = cluster_no.fit_predict(norm_data)\n",
    "print(ahclabel_no)"
   ]
  },
  {
   "cell_type": "code",
   "execution_count": null,
   "id": "9a35ba51",
   "metadata": {},
   "outputs": [],
   "source": [
    "print(f'Silhouette Score(n=2): {silhouette_score(norm_data, ahclabel_no)}')"
   ]
  },
  {
   "cell_type": "markdown",
   "id": "3ce6b554",
   "metadata": {},
   "source": [
    "We observe that for normalized data with n=2, we get better Silhouette score(0.557289..)"
   ]
  },
  {
   "cell_type": "markdown",
   "id": "1438b767",
   "metadata": {},
   "source": [
    "Hence we can use the Normalized data with 2 Clusters for the AHC Model."
   ]
  },
  {
   "cell_type": "code",
   "execution_count": null,
   "id": "74d9da24",
   "metadata": {},
   "outputs": [],
   "source": [
    "# Performing PCA for AHC model\n",
    "ahc_pca_n = AgglomerativeClustering(n_clusters = 2, affinity = \"euclidean\", linkage = \"ward\")\n",
    "ahclabel_pca_n = ahc_pca_n.fit_predict(wine_pca)\n",
    "print(ahclabel_pca_n)"
   ]
  },
  {
   "cell_type": "code",
   "execution_count": null,
   "id": "02fd8ff4",
   "metadata": {},
   "outputs": [],
   "source": [
    "print(f'Silhouette Score(n=2): {silhouette_score(wine_pca, ahclabel_pca_n)}')"
   ]
  },
  {
   "cell_type": "markdown",
   "id": "7c9f069f",
   "metadata": {},
   "source": [
    "After performing PCA for the normalized AHC model, we can observe a very minor increase in the Silhouette Score  \n",
    "(Increased from 0.5572 to 0.5585)"
   ]
  },
  {
   "cell_type": "markdown",
   "id": "cfb75ba4",
   "metadata": {},
   "source": [
    "## Conclusion"
   ]
  },
  {
   "cell_type": "markdown",
   "id": "76c38d66",
   "metadata": {},
   "source": [
    "The Silhouette score for the Models were as given below :\n",
    "\n",
    "KMeans Model (Scaled and n=3) = 0.301\n",
    "\n",
    "KMeans Model (Normalized and n=3) = 0.535\n",
    "\n",
    "KMeans Model (After PCA and n = 3) = 0.548,\n",
    "\n",
    "AHC Model (Scaled and n=3) = 0.296\n",
    "\n",
    "AHC Model (Normalized and n=2) = 0.557\n",
    "\n",
    "AHC Model (After PCA and n = 2 ) = 0.559"
   ]
  },
  {
   "cell_type": "markdown",
   "id": "3ffadc89",
   "metadata": {},
   "source": [
    "After comparing the models we can coclude that the Normalized Agglomerative Hierarchical Clustering model (n=2 and after PCA ) is giving a \n",
    "slightly higher performance score  than the Normalized Kmeans model (n=3 and after PCA)"
   ]
  },
  {
   "cell_type": "code",
   "execution_count": null,
   "id": "095b4a22",
   "metadata": {},
   "outputs": [],
   "source": []
  }
 ],
 "metadata": {
  "kernelspec": {
   "display_name": "Python 3 (ipykernel)",
   "language": "python",
   "name": "python3"
  },
  "language_info": {
   "codemirror_mode": {
    "name": "ipython",
    "version": 3
   },
   "file_extension": ".py",
   "mimetype": "text/x-python",
   "name": "python",
   "nbconvert_exporter": "python",
   "pygments_lexer": "ipython3",
   "version": "3.9.12"
  }
 },
 "nbformat": 4,
 "nbformat_minor": 5
}
